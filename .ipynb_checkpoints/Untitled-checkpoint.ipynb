{
 "cells": [
  {
   "cell_type": "code",
   "execution_count": 4,
   "id": "67acbeae",
   "metadata": {},
   "outputs": [
    {
     "data": {
      "text/plain": [
       "['Springer']"
      ]
     },
     "execution_count": 4,
     "metadata": {},
     "output_type": "execute_result"
    }
   ],
   "source": [
    "pets =[{\n",
    "    'name':'Springer',\n",
    "    'age':5,\n",
    "    'type':'dog'\n",
    "}, {\n",
    "     'name':'Puddles',\n",
    "    'age':7,\n",
    "    'type':'cat'  \n",
    "}]\n",
    "[pets['name'] for pets in pets if pets['type']=='dog']\n",
    " "
   ]
  },
  {
   "cell_type": "code",
   "execution_count": 22,
   "id": "22104491",
   "metadata": {},
   "outputs": [
    {
     "data": {
      "text/plain": [
       "[1,\n",
       " 2,\n",
       " 3,\n",
       " 4,\n",
       " 5,\n",
       " 6,\n",
       " 7,\n",
       " 8,\n",
       " 9,\n",
       " 10,\n",
       " 11,\n",
       " 12,\n",
       " 13,\n",
       " 14,\n",
       " 16,\n",
       " 17,\n",
       " 18,\n",
       " 19,\n",
       " 20,\n",
       " 21,\n",
       " 22,\n",
       " 23,\n",
       " 24,\n",
       " 25,\n",
       " 26,\n",
       " 27,\n",
       " 28,\n",
       " 29,\n",
       " 31,\n",
       " 32,\n",
       " 33,\n",
       " 34,\n",
       " 35,\n",
       " 36,\n",
       " 37,\n",
       " 38,\n",
       " 39,\n",
       " 40,\n",
       " 41,\n",
       " 42,\n",
       " 43,\n",
       " 44,\n",
       " 46,\n",
       " 47,\n",
       " 48,\n",
       " 49,\n",
       " 50,\n",
       " 51,\n",
       " 52,\n",
       " 53,\n",
       " 54,\n",
       " 55,\n",
       " 56,\n",
       " 57,\n",
       " 58,\n",
       " 59,\n",
       " 61,\n",
       " 62,\n",
       " 63,\n",
       " 64,\n",
       " 65,\n",
       " 66,\n",
       " 67,\n",
       " 68,\n",
       " 69,\n",
       " 70,\n",
       " 71,\n",
       " 72,\n",
       " 73,\n",
       " 74,\n",
       " 76,\n",
       " 77,\n",
       " 78,\n",
       " 79,\n",
       " 80,\n",
       " 81,\n",
       " 82,\n",
       " 83,\n",
       " 84,\n",
       " 85,\n",
       " 86,\n",
       " 87,\n",
       " 88,\n",
       " 89,\n",
       " 91,\n",
       " 92,\n",
       " 93,\n",
       " 94,\n",
       " 95,\n",
       " 96,\n",
       " 97,\n",
       " 98,\n",
       " 99]"
      ]
     },
     "execution_count": 22,
     "metadata": {},
     "output_type": "execute_result"
    }
   ],
   "source": [
    "#[x if x % 3 == 0 | % 5 == 0 for x in range(100)]\n",
    "\n",
    "[x for x in range(100) if x%3 or x%5]"
   ]
  },
  {
   "cell_type": "code",
   "execution_count": null,
   "id": "f81c5998",
   "metadata": {},
   "outputs": [],
   "source": [
    "import pandas as pd\n",
    "pd.options"
   ]
  },
  {
   "cell_type": "code",
   "execution_count": null,
   "id": "917b5a60",
   "metadata": {},
   "outputs": [],
   "source": [
    "sherlock_df = pd.csv(sherlock_file, )"
   ]
  },
  {
   "cell_type": "code",
   "execution_count": null,
   "id": "77e8ebf3",
   "metadata": {},
   "outputs": [],
   "source": [
    "p='Watson'\n",
    "sherlock_df[sherlock_df['text'].str.contains(p)]\n",
    "sherlock_df[sherlock_df['text'].str.contains(p, regex=False)]\n",
    "#\\s is for space  \n",
    "p='Watson\\s'\n",
    "sherlock_df[sherlock_df['text'].str.contains(p)]\n",
    "\n",
    "#\\s is for non-word character  \n",
    "p='Watson\\W'\n",
    "sherlock_df[sherlock_df['text'].str.contains(p)]\n"
   ]
  }
 ],
 "metadata": {
  "kernelspec": {
   "display_name": "PythonData",
   "language": "python",
   "name": "pythondata"
  },
  "language_info": {
   "codemirror_mode": {
    "name": "ipython",
    "version": 3
   },
   "file_extension": ".py",
   "mimetype": "text/x-python",
   "name": "python",
   "nbconvert_exporter": "python",
   "pygments_lexer": "ipython3",
   "version": "3.7.10"
  }
 },
 "nbformat": 4,
 "nbformat_minor": 5
}
